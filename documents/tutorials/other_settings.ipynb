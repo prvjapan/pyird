{
 "cells": [
  {
   "cell_type": "markdown",
   "metadata": {},
   "source": [
    "# Useful Options"
   ]
  },
  {
   "cell_type": "markdown",
   "metadata": {},
   "source": [
    "- :ref:`1`\n",
    "- :ref:`2`\n",
    "- :ref:`3`\n",
    "- :ref:`4`"
   ]
  },
  {
   "cell_type": "markdown",
   "metadata": {},
   "source": [
    ".. _1: \n",
    "\n",
    "## Increment/Decrement FITS IDs\n",
    "\n",
    "Frame numbers in IRD data are assigned as even numbers for the Y/J band and odd numbers for the H band."
   ]
  },
  {
   "cell_type": "markdown",
   "metadata": {},
   "source": [
    "### Manual Increment/Decrement"
   ]
  },
  {
   "cell_type": "code",
   "execution_count": 1,
   "metadata": {
    "execution": {
     "iopub.execute_input": "2025-02-05T13:31:50.786889Z",
     "iopub.status.busy": "2025-02-05T13:31:50.786360Z",
     "iopub.status.idle": "2025-02-05T13:31:51.268314Z",
     "shell.execute_reply": "2025-02-05T13:31:51.268048Z"
    }
   },
   "outputs": [
    {
     "name": "stdout",
     "output_type": "stream",
     "text": [
      "fitsid: [41510]\n",
      "fitsid incremented:  [41511]\n"
     ]
    }
   ],
   "source": [
    "import pathlib\n",
    "from pyird.utils import irdstream\n",
    "\n",
    "basedir = pathlib.Path('~/pyird/data/20210317/').expanduser()\n",
    "datadir = basedir/'target/'\n",
    "anadir = basedir/'reduc/'\n",
    "\n",
    "id_demo = irdstream.Stream2D(\"id_demo\", datadir, anadir, fitsid=[41510])\n",
    "\n",
    "id_demo.fitsid_increment()"
   ]
  },
  {
   "cell_type": "code",
   "execution_count": 2,
   "metadata": {
    "execution": {
     "iopub.execute_input": "2025-02-05T13:31:51.282427Z",
     "iopub.status.busy": "2025-02-05T13:31:51.282292Z",
     "iopub.status.idle": "2025-02-05T13:31:51.284110Z",
     "shell.execute_reply": "2025-02-05T13:31:51.283900Z"
    }
   },
   "outputs": [
    {
     "name": "stdout",
     "output_type": "stream",
     "text": [
      "fitsid decremented:  [41510]\n"
     ]
    }
   ],
   "source": [
    "id_demo.fitsid_decrement()"
   ]
  },
  {
   "cell_type": "markdown",
   "metadata": {},
   "source": [
    "### Automatic Increment for H-band Data"
   ]
  },
  {
   "cell_type": "code",
   "execution_count": 3,
   "metadata": {
    "execution": {
     "iopub.execute_input": "2025-02-05T13:31:51.285171Z",
     "iopub.status.busy": "2025-02-05T13:31:51.285108Z",
     "iopub.status.idle": "2025-02-05T13:31:51.286912Z",
     "shell.execute_reply": "2025-02-05T13:31:51.286730Z"
    }
   },
   "outputs": [
    {
     "name": "stdout",
     "output_type": "stream",
     "text": [
      "fitsid: [41510]\n",
      "fitsid incremented:  [41511]\n"
     ]
    }
   ],
   "source": [
    "from pyird.utils import irdstream\n",
    "\n",
    "id_demo = irdstream.Stream2D(\"id_demo\", datadir, anadir, fitsid=[41510], band=\"h\")"
   ]
  },
  {
   "cell_type": "markdown",
   "metadata": {},
   "source": [
    ".. _2: \n",
    "\n",
    "## Read Hotpixel Mask"
   ]
  },
  {
   "cell_type": "markdown",
   "metadata": {},
   "source": [
    "`PyIRD` includes hotpixel masks created from dark data obtained in Oct. 2022.\n",
    "You can use these masks if dark data from your observation date is unavailable."
   ]
  },
  {
   "cell_type": "code",
   "execution_count": 4,
   "metadata": {
    "execution": {
     "iopub.execute_input": "2025-02-05T13:31:51.287988Z",
     "iopub.status.busy": "2025-02-05T13:31:51.287918Z",
     "iopub.status.idle": "2025-02-05T13:31:51.345746Z",
     "shell.execute_reply": "2025-02-05T13:31:51.345498Z"
    }
   },
   "outputs": [],
   "source": [
    "import importlib\n",
    "from pyird.io.read_hotpix import read_hotpix\n",
    "\n",
    "band = \"h\"\n",
    "\n",
    "if band=='h':\n",
    "    path=importlib.resources.files('pyird').joinpath('data/hotpix_mask_h_202210_180s.fits')\n",
    "elif band=='y':\n",
    "    path=importlib.resources.files('pyird').joinpath('data/hotpix_mask_y_202210_180s.fits')\n",
    "hotpix_mask=read_hotpix(path)"
   ]
  },
  {
   "cell_type": "markdown",
   "metadata": {},
   "source": [
    ".. _3: \n",
    "\n",
    "## Change Output Format"
   ]
  },
  {
   "cell_type": "markdown",
   "metadata": {},
   "source": [
    "The output format of `pandas.DataFrame()` is determined by `tocsvargs` in the class `Stream2D()`. By default, `self.tocsvargs = {\"header\": False, \"index\": False, \"sep\": \" \"}`, but you can modify these settings as needed!"
   ]
  },
  {
   "cell_type": "code",
   "execution_count": 5,
   "metadata": {
    "execution": {
     "iopub.execute_input": "2025-02-05T13:31:51.347095Z",
     "iopub.status.busy": "2025-02-05T13:31:51.347022Z",
     "iopub.status.idle": "2025-02-05T13:31:51.348922Z",
     "shell.execute_reply": "2025-02-05T13:31:51.348734Z"
    }
   },
   "outputs": [
    {
     "name": "stdout",
     "output_type": "stream",
     "text": [
      "fitsid: [41510]\n",
      "default:  {'header': False, 'index': False, 'sep': ' '}\n",
      "modified:  {'header': False, 'index': True, 'sep': ','}\n"
     ]
    }
   ],
   "source": [
    "from pyird.utils import irdstream\n",
    "\n",
    "output_demo = irdstream.Stream2D(\"id_demo\", datadir, anadir, fitsid=[41510])\n",
    "print(\"default: \", output_demo.tocsvargs)\n",
    "\n",
    "output_demo.tocsvargs = {\"header\": False, \"index\": True, \"sep\": \",\"}\n",
    "print(\"modified: \", output_demo.tocsvargs)"
   ]
  },
  {
   "cell_type": "markdown",
   "metadata": {},
   "source": [
    ".. _4: \n",
    "\n",
    "## REACH Data Reduction"
   ]
  },
  {
   "cell_type": "markdown",
   "metadata": {},
   "source": [
    "For REACH data, set `inst = REACH` in `Stream2D()`.\n",
    "\n",
    "This option changes default aperture width to 5 pixels (ranging from -2 to 3)."
   ]
  },
  {
   "cell_type": "code",
   "execution_count": 6,
   "metadata": {
    "execution": {
     "iopub.execute_input": "2025-02-05T13:31:51.349952Z",
     "iopub.status.busy": "2025-02-05T13:31:51.349889Z",
     "iopub.status.idle": "2025-02-05T13:31:51.351495Z",
     "shell.execute_reply": "2025-02-05T13:31:51.351272Z"
    }
   },
   "outputs": [
    {
     "name": "stdout",
     "output_type": "stream",
     "text": [
      "fitsid: [41510]\n"
     ]
    }
   ],
   "source": [
    "from pyird.utils import irdstream\n",
    "\n",
    "reach_demo = irdstream.Stream2D(\"reach_demo\", datadir, anadir, fitsid=[41510], inst=\"REACH\")"
   ]
  }
 ],
 "metadata": {
  "kernelspec": {
   "display_name": "py313",
   "language": "python",
   "name": "py313"
  },
  "language_info": {
   "codemirror_mode": {
    "name": "ipython",
    "version": 3
   },
   "file_extension": ".py",
   "mimetype": "text/x-python",
   "name": "python",
   "nbconvert_exporter": "python",
   "pygments_lexer": "ipython3",
   "version": "3.13.0"
  }
 },
 "nbformat": 4,
 "nbformat_minor": 2
}
